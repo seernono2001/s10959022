{
  "nbformat": 4,
  "nbformat_minor": 0,
  "metadata": {
    "colab": {
      "name": "1105",
      "provenance": [],
      "collapsed_sections": [],
      "include_colab_link": true
    },
    "kernelspec": {
      "name": "ir",
      "display_name": "R"
    }
  },
  "cells": [
    {
      "cell_type": "markdown",
      "metadata": {
        "id": "view-in-github",
        "colab_type": "text"
      },
      "source": [
        "<a href=\"https://colab.research.google.com/github/seernono2001/s10959022/blob/master/1105.ipynb\" target=\"_parent\"><img src=\"https://colab.research.google.com/assets/colab-badge.svg\" alt=\"Open In Colab\"/></a>"
      ]
    },
    {
      "cell_type": "code",
      "metadata": {
        "id": "YdO3uij2da2p",
        "outputId": "1ed4d733-161b-44b9-d705-f79ce279e005",
        "colab": {
          "base_uri": "https://localhost:8080/"
        }
      },
      "source": [
        "install.packages(\"rJava\")\n",
        "install.packages(\"jiebaR\")\n",
        "install.packages(\"tmcn\")\n",
        "install.packages(\"dplyr\")\n",
        "install.packages(\"lubridate\")\n",
        "install.packages(\"stringr\")\n",
        "install.packages(\"wordcloud\")\n",
        "install.packages(\"Rwordseg\",repos=\"http://R-Forge.R-project.org\")\n",
        "install.packages(\"showtext\")"
      ],
      "execution_count": null,
      "outputs": [
        {
          "output_type": "stream",
          "text": [
            "Installing package into ‘/usr/local/lib/R/site-library’\n",
            "(as ‘lib’ is unspecified)\n",
            "\n",
            "Installing package into ‘/usr/local/lib/R/site-library’\n",
            "(as ‘lib’ is unspecified)\n",
            "\n",
            "Installing package into ‘/usr/local/lib/R/site-library’\n",
            "(as ‘lib’ is unspecified)\n",
            "\n",
            "Installing package into ‘/usr/local/lib/R/site-library’\n",
            "(as ‘lib’ is unspecified)\n",
            "\n",
            "Installing package into ‘/usr/local/lib/R/site-library’\n",
            "(as ‘lib’ is unspecified)\n",
            "\n",
            "Installing package into ‘/usr/local/lib/R/site-library’\n",
            "(as ‘lib’ is unspecified)\n",
            "\n",
            "Installing package into ‘/usr/local/lib/R/site-library’\n",
            "(as ‘lib’ is unspecified)\n",
            "\n",
            "Installing package into ‘/usr/local/lib/R/site-library’\n",
            "(as ‘lib’ is unspecified)\n",
            "\n",
            "Warning message:\n",
            "“dependency ‘HMM’ is not available”\n",
            "Warning message in install.packages(\"Rwordseg\", repos = \"http://R-Forge.R-project.org\"):\n",
            "“installation of package ‘Rwordseg’ had non-zero exit status”\n",
            "Installing package into ‘/usr/local/lib/R/site-library’\n",
            "(as ‘lib’ is unspecified)\n",
            "\n",
            "also installing the dependencies ‘sysfonts’, ‘showtextdb’\n",
            "\n",
            "\n"
          ],
          "name": "stderr"
        }
      ]
    },
    {
      "cell_type": "code",
      "metadata": {
        "id": "yT0Pkvh2es0z"
      },
      "source": [
        "library(\"dplyr\")\n",
        "library(\"lubridate\")\n",
        "library(\"stringr\")\n",
        "library(\"jiebaR\")\n",
        "library(\"wordcloud\")\n",
        "library(showtext)"
      ],
      "execution_count": null,
      "outputs": []
    },
    {
      "cell_type": "code",
      "metadata": {
        "id": "GUUQHTB4lSYx",
        "outputId": "9190d1ba-c842-4182-8d73-d95d8406481d",
        "colab": {
          "base_uri": "https://localhost:8080/"
        }
      },
      "source": [
        "showtext.auto(enable=TRUE)"
      ],
      "execution_count": null,
      "outputs": [
        {
          "output_type": "stream",
          "text": [
            "'showtext.auto()' is now renamed to 'showtext_auto()'\n",
            "The old version still works, but consider using the new function in future code\n",
            "\n"
          ],
          "name": "stderr"
        }
      ]
    },
    {
      "cell_type": "code",
      "metadata": {
        "id": "JncDk4R_fIOv"
      },
      "source": [
        "content <- \"嚴重特殊傳染性肺炎疫情持續在全球蔓延,已造成三千多萬人感染,死亡人數破百萬人,歐美醫療體系幾近崩潰,各種行動限制對於各國之經濟更有莫大之衝擊。\n",
        "然而台灣未實行大規模封鎖行動,維持正常上班上課與各種經濟活動,至今無大規模疫情爆發,醫療體系也仍能正常提供民眾服務,顯示台灣的防疫政策正確而有效,\n",
        "獲得世界各國高度肯定。國家衛生研究院群體健康科學研究所與感染症與疫苗研究所合作,利用真實數據與數學模型證實,良好的邊境管控,詳盡的疫情調查,\n",
        "確實的隔離與檢疫,以及民眾遵行防疫措施,為台灣抗疫四大支柱。台灣也對世界各國提供各項協助與經驗分享,期望幫助各國盡快從疫情的陰霾中走出。\"\n",
        "cutter <- worker(bylines = F)#"
      ],
      "execution_count": null,
      "outputs": []
    },
    {
      "cell_type": "code",
      "metadata": {
        "id": "oQuM_Wh_faX6",
        "outputId": "724a2936-2e3c-474c-d5dc-702357d6cb97",
        "colab": {
          "base_uri": "https://localhost:8080/",
          "height": 153
        }
      },
      "source": [
        "cutter[content]"
      ],
      "execution_count": null,
      "outputs": [
        {
          "output_type": "display_data",
          "data": {
            "text/plain": [
              "  [1] \"嚴重\"           \"特殊\"           \"傳染性\"         \"肺炎\"          \n",
              "  [5] \"疫情\"           \"持續\"           \"在\"             \"全球\"          \n",
              "  [9] \"蔓延\"           \"已\"             \"造成\"           \"三千多萬\"      \n",
              " [13] \"人\"             \"感染\"           \"死亡\"           \"人數\"          \n",
              " [17] \"破\"             \"百萬\"           \"人\"             \"歐美\"          \n",
              " [21] \"醫療\"           \"體系\"           \"幾近\"           \"崩潰\"          \n",
              " [25] \"各種\"           \"行動\"           \"限制\"           \"對於\"          \n",
              " [29] \"各國\"           \"之\"             \"經濟\"           \"更\"            \n",
              " [33] \"有\"             \"莫大\"           \"之\"             \"衝擊\"          \n",
              " [37] \"然而\"           \"台灣\"           \"未\"             \"實行\"          \n",
              " [41] \"大規模\"         \"封鎖\"           \"行動\"           \"維持\"          \n",
              " [45] \"正常\"           \"上班\"           \"上課\"           \"與\"            \n",
              " [49] \"各種\"           \"經濟\"           \"活動\"           \"至今\"          \n",
              " [53] \"無\"             \"大規模\"         \"疫情\"           \"爆發\"          \n",
              " [57] \"醫療\"           \"體系\"           \"也\"             \"仍\"            \n",
              " [61] \"能\"             \"正常\"           \"提供\"           \"民眾\"          \n",
              " [65] \"服務\"           \"顯示\"           \"台灣\"           \"的\"            \n",
              " [69] \"防疫\"           \"政策\"           \"正確\"           \"而\"            \n",
              " [73] \"有效\"           \"獲得\"           \"世界\"           \"各國\"          \n",
              " [77] \"高度肯定\"       \"國家衛生研究院\" \"群體\"           \"健康\"          \n",
              " [81] \"科學\"           \"研究所\"         \"與\"             \"感染\"          \n",
              " [85] \"症\"             \"與\"             \"疫苗\"           \"研究所\"        \n",
              " [89] \"合作\"           \"利用\"           \"真實\"           \"數據\"          \n",
              " [93] \"與\"             \"數學模型\"       \"證實\"           \"良好\"          \n",
              " [97] \"的\"             \"邊境\"           \"管控\"           \"詳盡\"          \n",
              "[101] \"的\"             \"疫情\"           \"調查\"           \"確實\"          \n",
              "[105] \"的\"             \"隔離\"           \"與\"             \"檢疫\"          \n",
              "[109] \"以及\"           \"民眾\"           \"遵行\"           \"防疫\"          \n",
              "[113] \"措施\"           \"為\"             \"台灣\"           \"抗疫\"          \n",
              "[117] \"四大\"           \"支柱\"           \"台灣\"           \"也\"            \n",
              "[121] \"對\"             \"世界\"           \"各國\"           \"提供\"          \n",
              "[125] \"各項\"           \"協助\"           \"與\"             \"經驗\"          \n",
              "[129] \"分享\"           \"期望\"           \"幫助\"           \"各國\"          \n",
              "[133] \"盡快\"           \"從\"             \"疫情\"           \"的\"            \n",
              "[137] \"陰霾\"           \"中\"             \"走出\"          "
            ],
            "text/latex": "\\begin{enumerate*}\n\\item '嚴重'\n\\item '特殊'\n\\item '傳染性'\n\\item '肺炎'\n\\item '疫情'\n\\item '持續'\n\\item '在'\n\\item '全球'\n\\item '蔓延'\n\\item '已'\n\\item '造成'\n\\item '三千多萬'\n\\item '人'\n\\item '感染'\n\\item '死亡'\n\\item '人數'\n\\item '破'\n\\item '百萬'\n\\item '人'\n\\item '歐美'\n\\item '醫療'\n\\item '體系'\n\\item '幾近'\n\\item '崩潰'\n\\item '各種'\n\\item '行動'\n\\item '限制'\n\\item '對於'\n\\item '各國'\n\\item '之'\n\\item '經濟'\n\\item '更'\n\\item '有'\n\\item '莫大'\n\\item '之'\n\\item '衝擊'\n\\item '然而'\n\\item '台灣'\n\\item '未'\n\\item '實行'\n\\item '大規模'\n\\item '封鎖'\n\\item '行動'\n\\item '維持'\n\\item '正常'\n\\item '上班'\n\\item '上課'\n\\item '與'\n\\item '各種'\n\\item '經濟'\n\\item '活動'\n\\item '至今'\n\\item '無'\n\\item '大規模'\n\\item '疫情'\n\\item '爆發'\n\\item '醫療'\n\\item '體系'\n\\item '也'\n\\item '仍'\n\\item '能'\n\\item '正常'\n\\item '提供'\n\\item '民眾'\n\\item '服務'\n\\item '顯示'\n\\item '台灣'\n\\item '的'\n\\item '防疫'\n\\item '政策'\n\\item '正確'\n\\item '而'\n\\item '有效'\n\\item '獲得'\n\\item '世界'\n\\item '各國'\n\\item '高度肯定'\n\\item '國家衛生研究院'\n\\item '群體'\n\\item '健康'\n\\item '科學'\n\\item '研究所'\n\\item '與'\n\\item '感染'\n\\item '症'\n\\item '與'\n\\item '疫苗'\n\\item '研究所'\n\\item '合作'\n\\item '利用'\n\\item '真實'\n\\item '數據'\n\\item '與'\n\\item '數學模型'\n\\item '證實'\n\\item '良好'\n\\item '的'\n\\item '邊境'\n\\item '管控'\n\\item '詳盡'\n\\item '的'\n\\item '疫情'\n\\item '調查'\n\\item '確實'\n\\item '的'\n\\item '隔離'\n\\item '與'\n\\item '檢疫'\n\\item '以及'\n\\item '民眾'\n\\item '遵行'\n\\item '防疫'\n\\item '措施'\n\\item '為'\n\\item '台灣'\n\\item '抗疫'\n\\item '四大'\n\\item '支柱'\n\\item '台灣'\n\\item '也'\n\\item '對'\n\\item '世界'\n\\item '各國'\n\\item '提供'\n\\item '各項'\n\\item '協助'\n\\item '與'\n\\item '經驗'\n\\item '分享'\n\\item '期望'\n\\item '幫助'\n\\item '各國'\n\\item '盡快'\n\\item '從'\n\\item '疫情'\n\\item '的'\n\\item '陰霾'\n\\item '中'\n\\item '走出'\n\\end{enumerate*}\n",
            "text/markdown": "1. '嚴重'\n2. '特殊'\n3. '傳染性'\n4. '肺炎'\n5. '疫情'\n6. '持續'\n7. '在'\n8. '全球'\n9. '蔓延'\n10. '已'\n11. '造成'\n12. '三千多萬'\n13. '人'\n14. '感染'\n15. '死亡'\n16. '人數'\n17. '破'\n18. '百萬'\n19. '人'\n20. '歐美'\n21. '醫療'\n22. '體系'\n23. '幾近'\n24. '崩潰'\n25. '各種'\n26. '行動'\n27. '限制'\n28. '對於'\n29. '各國'\n30. '之'\n31. '經濟'\n32. '更'\n33. '有'\n34. '莫大'\n35. '之'\n36. '衝擊'\n37. '然而'\n38. '台灣'\n39. '未'\n40. '實行'\n41. '大規模'\n42. '封鎖'\n43. '行動'\n44. '維持'\n45. '正常'\n46. '上班'\n47. '上課'\n48. '與'\n49. '各種'\n50. '經濟'\n51. '活動'\n52. '至今'\n53. '無'\n54. '大規模'\n55. '疫情'\n56. '爆發'\n57. '醫療'\n58. '體系'\n59. '也'\n60. '仍'\n61. '能'\n62. '正常'\n63. '提供'\n64. '民眾'\n65. '服務'\n66. '顯示'\n67. '台灣'\n68. '的'\n69. '防疫'\n70. '政策'\n71. '正確'\n72. '而'\n73. '有效'\n74. '獲得'\n75. '世界'\n76. '各國'\n77. '高度肯定'\n78. '國家衛生研究院'\n79. '群體'\n80. '健康'\n81. '科學'\n82. '研究所'\n83. '與'\n84. '感染'\n85. '症'\n86. '與'\n87. '疫苗'\n88. '研究所'\n89. '合作'\n90. '利用'\n91. '真實'\n92. '數據'\n93. '與'\n94. '數學模型'\n95. '證實'\n96. '良好'\n97. '的'\n98. '邊境'\n99. '管控'\n100. '詳盡'\n101. '的'\n102. '疫情'\n103. '調查'\n104. '確實'\n105. '的'\n106. '隔離'\n107. '與'\n108. '檢疫'\n109. '以及'\n110. '民眾'\n111. '遵行'\n112. '防疫'\n113. '措施'\n114. '為'\n115. '台灣'\n116. '抗疫'\n117. '四大'\n118. '支柱'\n119. '台灣'\n120. '也'\n121. '對'\n122. '世界'\n123. '各國'\n124. '提供'\n125. '各項'\n126. '協助'\n127. '與'\n128. '經驗'\n129. '分享'\n130. '期望'\n131. '幫助'\n132. '各國'\n133. '盡快'\n134. '從'\n135. '疫情'\n136. '的'\n137. '陰霾'\n138. '中'\n139. '走出'\n\n\n",
            "text/html": [
              "<style>\n",
              ".list-inline {list-style: none; margin:0; padding: 0}\n",
              ".list-inline>li {display: inline-block}\n",
              ".list-inline>li:not(:last-child)::after {content: \"\\00b7\"; padding: 0 .5ex}\n",
              "</style>\n",
              "<ol class=list-inline><li>'嚴重'</li><li>'特殊'</li><li>'傳染性'</li><li>'肺炎'</li><li>'疫情'</li><li>'持續'</li><li>'在'</li><li>'全球'</li><li>'蔓延'</li><li>'已'</li><li>'造成'</li><li>'三千多萬'</li><li>'人'</li><li>'感染'</li><li>'死亡'</li><li>'人數'</li><li>'破'</li><li>'百萬'</li><li>'人'</li><li>'歐美'</li><li>'醫療'</li><li>'體系'</li><li>'幾近'</li><li>'崩潰'</li><li>'各種'</li><li>'行動'</li><li>'限制'</li><li>'對於'</li><li>'各國'</li><li>'之'</li><li>'經濟'</li><li>'更'</li><li>'有'</li><li>'莫大'</li><li>'之'</li><li>'衝擊'</li><li>'然而'</li><li>'台灣'</li><li>'未'</li><li>'實行'</li><li>'大規模'</li><li>'封鎖'</li><li>'行動'</li><li>'維持'</li><li>'正常'</li><li>'上班'</li><li>'上課'</li><li>'與'</li><li>'各種'</li><li>'經濟'</li><li>'活動'</li><li>'至今'</li><li>'無'</li><li>'大規模'</li><li>'疫情'</li><li>'爆發'</li><li>'醫療'</li><li>'體系'</li><li>'也'</li><li>'仍'</li><li>'能'</li><li>'正常'</li><li>'提供'</li><li>'民眾'</li><li>'服務'</li><li>'顯示'</li><li>'台灣'</li><li>'的'</li><li>'防疫'</li><li>'政策'</li><li>'正確'</li><li>'而'</li><li>'有效'</li><li>'獲得'</li><li>'世界'</li><li>'各國'</li><li>'高度肯定'</li><li>'國家衛生研究院'</li><li>'群體'</li><li>'健康'</li><li>'科學'</li><li>'研究所'</li><li>'與'</li><li>'感染'</li><li>'症'</li><li>'與'</li><li>'疫苗'</li><li>'研究所'</li><li>'合作'</li><li>'利用'</li><li>'真實'</li><li>'數據'</li><li>'與'</li><li>'數學模型'</li><li>'證實'</li><li>'良好'</li><li>'的'</li><li>'邊境'</li><li>'管控'</li><li>'詳盡'</li><li>'的'</li><li>'疫情'</li><li>'調查'</li><li>'確實'</li><li>'的'</li><li>'隔離'</li><li>'與'</li><li>'檢疫'</li><li>'以及'</li><li>'民眾'</li><li>'遵行'</li><li>'防疫'</li><li>'措施'</li><li>'為'</li><li>'台灣'</li><li>'抗疫'</li><li>'四大'</li><li>'支柱'</li><li>'台灣'</li><li>'也'</li><li>'對'</li><li>'世界'</li><li>'各國'</li><li>'提供'</li><li>'各項'</li><li>'協助'</li><li>'與'</li><li>'經驗'</li><li>'分享'</li><li>'期望'</li><li>'幫助'</li><li>'各國'</li><li>'盡快'</li><li>'從'</li><li>'疫情'</li><li>'的'</li><li>'陰霾'</li><li>'中'</li><li>'走出'</li></ol>\n"
            ]
          },
          "metadata": {
            "tags": []
          }
        }
      ]
    },
    {
      "cell_type": "code",
      "metadata": {
        "id": "G4XyY9Rmf0YZ",
        "outputId": "0a40ee48-4eec-47dd-9602-e8383a145f6c",
        "colab": {
          "base_uri": "https://localhost:8080/",
          "height": 153
        }
      },
      "source": [
        "new_words <- c(\"傳染性肺炎\",\"醫療體系\",\"防疫措施\")\n",
        "for(i in 1:length(new_words)){new_user_word(cutter,new_words[i])}\n",
        "content <- str_remove_all(content,\"[0-9a-zA-Z]+?\")\n",
        "cutter[content]\n"
      ],
      "execution_count": null,
      "outputs": [
        {
          "output_type": "display_data",
          "data": {
            "text/plain": [
              "  [1] \"嚴重\"           \"特殊\"           \"傳染性肺炎\"     \"疫情\"          \n",
              "  [5] \"持續\"           \"在\"             \"全球\"           \"蔓延\"          \n",
              "  [9] \"已\"             \"造成\"           \"三千多萬\"       \"人\"            \n",
              " [13] \"感染\"           \"死亡\"           \"人數\"           \"破\"            \n",
              " [17] \"百萬\"           \"人\"             \"歐美\"           \"醫療體系\"      \n",
              " [21] \"幾近\"           \"崩潰\"           \"各種\"           \"行動\"          \n",
              " [25] \"限制\"           \"對於\"           \"各國\"           \"之\"            \n",
              " [29] \"經濟\"           \"更\"             \"有\"             \"莫大\"          \n",
              " [33] \"之\"             \"衝擊\"           \"然而\"           \"台灣\"          \n",
              " [37] \"未\"             \"實行\"           \"大規模\"         \"封鎖\"          \n",
              " [41] \"行動\"           \"維持\"           \"正常\"           \"上班\"          \n",
              " [45] \"上課\"           \"與\"             \"各種\"           \"經濟\"          \n",
              " [49] \"活動\"           \"至今\"           \"無\"             \"大規模\"        \n",
              " [53] \"疫情\"           \"爆發\"           \"醫療體系\"       \"也\"            \n",
              " [57] \"仍\"             \"能\"             \"正常\"           \"提供\"          \n",
              " [61] \"民眾\"           \"服務\"           \"顯示\"           \"台灣\"          \n",
              " [65] \"的\"             \"防疫\"           \"政策\"           \"正確\"          \n",
              " [69] \"而\"             \"有效\"           \"獲得\"           \"世界\"          \n",
              " [73] \"各國\"           \"高度肯定\"       \"國家衛生研究院\" \"群體\"          \n",
              " [77] \"健康\"           \"科學\"           \"研究所\"         \"與\"            \n",
              " [81] \"感染\"           \"症\"             \"與\"             \"疫苗\"          \n",
              " [85] \"研究所\"         \"合作\"           \"利用\"           \"真實\"          \n",
              " [89] \"數據\"           \"與\"             \"數學模型\"       \"證實\"          \n",
              " [93] \"良好\"           \"的\"             \"邊境\"           \"管控\"          \n",
              " [97] \"詳盡\"           \"的\"             \"疫情\"           \"調查\"          \n",
              "[101] \"確實\"           \"的\"             \"隔離\"           \"與\"            \n",
              "[105] \"檢疫\"           \"以及\"           \"民眾\"           \"遵行\"          \n",
              "[109] \"防疫措施\"       \"為\"             \"台灣\"           \"抗疫\"          \n",
              "[113] \"四大\"           \"支柱\"           \"台灣\"           \"也\"            \n",
              "[117] \"對\"             \"世界\"           \"各國\"           \"提供\"          \n",
              "[121] \"各項\"           \"協助\"           \"與\"             \"經驗\"          \n",
              "[125] \"分享\"           \"期望\"           \"幫助\"           \"各國\"          \n",
              "[129] \"盡快\"           \"從\"             \"疫情\"           \"的\"            \n",
              "[133] \"陰霾\"           \"中\"             \"走出\"          "
            ],
            "text/latex": "\\begin{enumerate*}\n\\item '嚴重'\n\\item '特殊'\n\\item '傳染性肺炎'\n\\item '疫情'\n\\item '持續'\n\\item '在'\n\\item '全球'\n\\item '蔓延'\n\\item '已'\n\\item '造成'\n\\item '三千多萬'\n\\item '人'\n\\item '感染'\n\\item '死亡'\n\\item '人數'\n\\item '破'\n\\item '百萬'\n\\item '人'\n\\item '歐美'\n\\item '醫療體系'\n\\item '幾近'\n\\item '崩潰'\n\\item '各種'\n\\item '行動'\n\\item '限制'\n\\item '對於'\n\\item '各國'\n\\item '之'\n\\item '經濟'\n\\item '更'\n\\item '有'\n\\item '莫大'\n\\item '之'\n\\item '衝擊'\n\\item '然而'\n\\item '台灣'\n\\item '未'\n\\item '實行'\n\\item '大規模'\n\\item '封鎖'\n\\item '行動'\n\\item '維持'\n\\item '正常'\n\\item '上班'\n\\item '上課'\n\\item '與'\n\\item '各種'\n\\item '經濟'\n\\item '活動'\n\\item '至今'\n\\item '無'\n\\item '大規模'\n\\item '疫情'\n\\item '爆發'\n\\item '醫療體系'\n\\item '也'\n\\item '仍'\n\\item '能'\n\\item '正常'\n\\item '提供'\n\\item '民眾'\n\\item '服務'\n\\item '顯示'\n\\item '台灣'\n\\item '的'\n\\item '防疫'\n\\item '政策'\n\\item '正確'\n\\item '而'\n\\item '有效'\n\\item '獲得'\n\\item '世界'\n\\item '各國'\n\\item '高度肯定'\n\\item '國家衛生研究院'\n\\item '群體'\n\\item '健康'\n\\item '科學'\n\\item '研究所'\n\\item '與'\n\\item '感染'\n\\item '症'\n\\item '與'\n\\item '疫苗'\n\\item '研究所'\n\\item '合作'\n\\item '利用'\n\\item '真實'\n\\item '數據'\n\\item '與'\n\\item '數學模型'\n\\item '證實'\n\\item '良好'\n\\item '的'\n\\item '邊境'\n\\item '管控'\n\\item '詳盡'\n\\item '的'\n\\item '疫情'\n\\item '調查'\n\\item '確實'\n\\item '的'\n\\item '隔離'\n\\item '與'\n\\item '檢疫'\n\\item '以及'\n\\item '民眾'\n\\item '遵行'\n\\item '防疫措施'\n\\item '為'\n\\item '台灣'\n\\item '抗疫'\n\\item '四大'\n\\item '支柱'\n\\item '台灣'\n\\item '也'\n\\item '對'\n\\item '世界'\n\\item '各國'\n\\item '提供'\n\\item '各項'\n\\item '協助'\n\\item '與'\n\\item '經驗'\n\\item '分享'\n\\item '期望'\n\\item '幫助'\n\\item '各國'\n\\item '盡快'\n\\item '從'\n\\item '疫情'\n\\item '的'\n\\item '陰霾'\n\\item '中'\n\\item '走出'\n\\end{enumerate*}\n",
            "text/markdown": "1. '嚴重'\n2. '特殊'\n3. '傳染性肺炎'\n4. '疫情'\n5. '持續'\n6. '在'\n7. '全球'\n8. '蔓延'\n9. '已'\n10. '造成'\n11. '三千多萬'\n12. '人'\n13. '感染'\n14. '死亡'\n15. '人數'\n16. '破'\n17. '百萬'\n18. '人'\n19. '歐美'\n20. '醫療體系'\n21. '幾近'\n22. '崩潰'\n23. '各種'\n24. '行動'\n25. '限制'\n26. '對於'\n27. '各國'\n28. '之'\n29. '經濟'\n30. '更'\n31. '有'\n32. '莫大'\n33. '之'\n34. '衝擊'\n35. '然而'\n36. '台灣'\n37. '未'\n38. '實行'\n39. '大規模'\n40. '封鎖'\n41. '行動'\n42. '維持'\n43. '正常'\n44. '上班'\n45. '上課'\n46. '與'\n47. '各種'\n48. '經濟'\n49. '活動'\n50. '至今'\n51. '無'\n52. '大規模'\n53. '疫情'\n54. '爆發'\n55. '醫療體系'\n56. '也'\n57. '仍'\n58. '能'\n59. '正常'\n60. '提供'\n61. '民眾'\n62. '服務'\n63. '顯示'\n64. '台灣'\n65. '的'\n66. '防疫'\n67. '政策'\n68. '正確'\n69. '而'\n70. '有效'\n71. '獲得'\n72. '世界'\n73. '各國'\n74. '高度肯定'\n75. '國家衛生研究院'\n76. '群體'\n77. '健康'\n78. '科學'\n79. '研究所'\n80. '與'\n81. '感染'\n82. '症'\n83. '與'\n84. '疫苗'\n85. '研究所'\n86. '合作'\n87. '利用'\n88. '真實'\n89. '數據'\n90. '與'\n91. '數學模型'\n92. '證實'\n93. '良好'\n94. '的'\n95. '邊境'\n96. '管控'\n97. '詳盡'\n98. '的'\n99. '疫情'\n100. '調查'\n101. '確實'\n102. '的'\n103. '隔離'\n104. '與'\n105. '檢疫'\n106. '以及'\n107. '民眾'\n108. '遵行'\n109. '防疫措施'\n110. '為'\n111. '台灣'\n112. '抗疫'\n113. '四大'\n114. '支柱'\n115. '台灣'\n116. '也'\n117. '對'\n118. '世界'\n119. '各國'\n120. '提供'\n121. '各項'\n122. '協助'\n123. '與'\n124. '經驗'\n125. '分享'\n126. '期望'\n127. '幫助'\n128. '各國'\n129. '盡快'\n130. '從'\n131. '疫情'\n132. '的'\n133. '陰霾'\n134. '中'\n135. '走出'\n\n\n",
            "text/html": [
              "<style>\n",
              ".list-inline {list-style: none; margin:0; padding: 0}\n",
              ".list-inline>li {display: inline-block}\n",
              ".list-inline>li:not(:last-child)::after {content: \"\\00b7\"; padding: 0 .5ex}\n",
              "</style>\n",
              "<ol class=list-inline><li>'嚴重'</li><li>'特殊'</li><li>'傳染性肺炎'</li><li>'疫情'</li><li>'持續'</li><li>'在'</li><li>'全球'</li><li>'蔓延'</li><li>'已'</li><li>'造成'</li><li>'三千多萬'</li><li>'人'</li><li>'感染'</li><li>'死亡'</li><li>'人數'</li><li>'破'</li><li>'百萬'</li><li>'人'</li><li>'歐美'</li><li>'醫療體系'</li><li>'幾近'</li><li>'崩潰'</li><li>'各種'</li><li>'行動'</li><li>'限制'</li><li>'對於'</li><li>'各國'</li><li>'之'</li><li>'經濟'</li><li>'更'</li><li>'有'</li><li>'莫大'</li><li>'之'</li><li>'衝擊'</li><li>'然而'</li><li>'台灣'</li><li>'未'</li><li>'實行'</li><li>'大規模'</li><li>'封鎖'</li><li>'行動'</li><li>'維持'</li><li>'正常'</li><li>'上班'</li><li>'上課'</li><li>'與'</li><li>'各種'</li><li>'經濟'</li><li>'活動'</li><li>'至今'</li><li>'無'</li><li>'大規模'</li><li>'疫情'</li><li>'爆發'</li><li>'醫療體系'</li><li>'也'</li><li>'仍'</li><li>'能'</li><li>'正常'</li><li>'提供'</li><li>'民眾'</li><li>'服務'</li><li>'顯示'</li><li>'台灣'</li><li>'的'</li><li>'防疫'</li><li>'政策'</li><li>'正確'</li><li>'而'</li><li>'有效'</li><li>'獲得'</li><li>'世界'</li><li>'各國'</li><li>'高度肯定'</li><li>'國家衛生研究院'</li><li>'群體'</li><li>'健康'</li><li>'科學'</li><li>'研究所'</li><li>'與'</li><li>'感染'</li><li>'症'</li><li>'與'</li><li>'疫苗'</li><li>'研究所'</li><li>'合作'</li><li>'利用'</li><li>'真實'</li><li>'數據'</li><li>'與'</li><li>'數學模型'</li><li>'證實'</li><li>'良好'</li><li>'的'</li><li>'邊境'</li><li>'管控'</li><li>'詳盡'</li><li>'的'</li><li>'疫情'</li><li>'調查'</li><li>'確實'</li><li>'的'</li><li>'隔離'</li><li>'與'</li><li>'檢疫'</li><li>'以及'</li><li>'民眾'</li><li>'遵行'</li><li>'防疫措施'</li><li>'為'</li><li>'台灣'</li><li>'抗疫'</li><li>'四大'</li><li>'支柱'</li><li>'台灣'</li><li>'也'</li><li>'對'</li><li>'世界'</li><li>'各國'</li><li>'提供'</li><li>'各項'</li><li>'協助'</li><li>'與'</li><li>'經驗'</li><li>'分享'</li><li>'期望'</li><li>'幫助'</li><li>'各國'</li><li>'盡快'</li><li>'從'</li><li>'疫情'</li><li>'的'</li><li>'陰霾'</li><li>'中'</li><li>'走出'</li></ol>\n"
            ]
          },
          "metadata": {
            "tags": []
          }
        }
      ]
    },
    {
      "cell_type": "code",
      "metadata": {
        "id": "4xD_3HC6hQw9"
      },
      "source": [
        "new_words <- c(\"傳染性肺炎\",\"醫療體系\",\"防疫措施\")\n",
        "writeLines(new_words,\"new_words.txt\")"
      ],
      "execution_count": null,
      "outputs": []
    },
    {
      "cell_type": "code",
      "metadata": {
        "id": "uawsfl5yh1Kb"
      },
      "source": [
        "stop_words <- c(\"在\",\"之\",\"更\",\"也\",\"個\",\"未\",\"而\",\"也\",\"的\",\"與\")\n",
        "writeLines(stop_words,\"stop_words.txt\")"
      ],
      "execution_count": null,
      "outputs": []
    },
    {
      "cell_type": "code",
      "metadata": {
        "id": "S2cOPl0Mim6m",
        "outputId": "604d3dc6-32a2-439a-8068-2b0dfff11bc5",
        "colab": {
          "base_uri": "https://localhost:8080/",
          "height": 136
        }
      },
      "source": [
        "cutter <- worker(user=\"new_words.txt\",stop_word=\"stop_words.txt\",bylines=FALSE)\n",
        "seg_words <- cutter[content]\n",
        "seg_words"
      ],
      "execution_count": null,
      "outputs": [
        {
          "output_type": "display_data",
          "data": {
            "text/plain": [
              "  [1] \"嚴重\"           \"特殊\"           \"傳染性肺炎\"     \"疫情\"          \n",
              "  [5] \"持續\"           \"全球\"           \"蔓延\"           \"已\"            \n",
              "  [9] \"造成\"           \"三千多萬\"       \"人\"             \"感染\"          \n",
              " [13] \"死亡\"           \"人數\"           \"破\"             \"百萬\"          \n",
              " [17] \"人\"             \"歐美\"           \"醫療體系\"       \"幾近\"          \n",
              " [21] \"崩潰\"           \"各種\"           \"行動\"           \"限制\"          \n",
              " [25] \"對於\"           \"各國\"           \"經濟\"           \"有\"            \n",
              " [29] \"莫大\"           \"衝擊\"           \"然而\"           \"台灣\"          \n",
              " [33] \"實行\"           \"大規模\"         \"封鎖\"           \"行動\"          \n",
              " [37] \"維持\"           \"正常\"           \"上班\"           \"上課\"          \n",
              " [41] \"各種\"           \"經濟\"           \"活動\"           \"至今\"          \n",
              " [45] \"無\"             \"大規模\"         \"疫情\"           \"爆發\"          \n",
              " [49] \"醫療體系\"       \"仍\"             \"能\"             \"正常\"          \n",
              " [53] \"提供\"           \"民眾\"           \"服務\"           \"顯示\"          \n",
              " [57] \"台灣\"           \"防疫\"           \"政策\"           \"正確\"          \n",
              " [61] \"有效\"           \"獲得\"           \"世界\"           \"各國\"          \n",
              " [65] \"高度肯定\"       \"國家衛生研究院\" \"群體\"           \"健康\"          \n",
              " [69] \"科學\"           \"研究所\"         \"感染\"           \"症\"            \n",
              " [73] \"疫苗\"           \"研究所\"         \"合作\"           \"利用\"          \n",
              " [77] \"真實\"           \"數據\"           \"數學模型\"       \"證實\"          \n",
              " [81] \"良好\"           \"邊境\"           \"管控\"           \"詳盡\"          \n",
              " [85] \"疫情\"           \"調查\"           \"確實\"           \"隔離\"          \n",
              " [89] \"檢疫\"           \"以及\"           \"民眾\"           \"遵行\"          \n",
              " [93] \"防疫措施\"       \"為\"             \"台灣\"           \"抗疫\"          \n",
              " [97] \"四大\"           \"支柱\"           \"台灣\"           \"對\"            \n",
              "[101] \"世界\"           \"各國\"           \"提供\"           \"各項\"          \n",
              "[105] \"協助\"           \"經驗\"           \"分享\"           \"期望\"          \n",
              "[109] \"幫助\"           \"各國\"           \"盡快\"           \"從\"            \n",
              "[113] \"疫情\"           \"陰霾\"           \"中\"             \"走出\"          "
            ],
            "text/latex": "\\begin{enumerate*}\n\\item '嚴重'\n\\item '特殊'\n\\item '傳染性肺炎'\n\\item '疫情'\n\\item '持續'\n\\item '全球'\n\\item '蔓延'\n\\item '已'\n\\item '造成'\n\\item '三千多萬'\n\\item '人'\n\\item '感染'\n\\item '死亡'\n\\item '人數'\n\\item '破'\n\\item '百萬'\n\\item '人'\n\\item '歐美'\n\\item '醫療體系'\n\\item '幾近'\n\\item '崩潰'\n\\item '各種'\n\\item '行動'\n\\item '限制'\n\\item '對於'\n\\item '各國'\n\\item '經濟'\n\\item '有'\n\\item '莫大'\n\\item '衝擊'\n\\item '然而'\n\\item '台灣'\n\\item '實行'\n\\item '大規模'\n\\item '封鎖'\n\\item '行動'\n\\item '維持'\n\\item '正常'\n\\item '上班'\n\\item '上課'\n\\item '各種'\n\\item '經濟'\n\\item '活動'\n\\item '至今'\n\\item '無'\n\\item '大規模'\n\\item '疫情'\n\\item '爆發'\n\\item '醫療體系'\n\\item '仍'\n\\item '能'\n\\item '正常'\n\\item '提供'\n\\item '民眾'\n\\item '服務'\n\\item '顯示'\n\\item '台灣'\n\\item '防疫'\n\\item '政策'\n\\item '正確'\n\\item '有效'\n\\item '獲得'\n\\item '世界'\n\\item '各國'\n\\item '高度肯定'\n\\item '國家衛生研究院'\n\\item '群體'\n\\item '健康'\n\\item '科學'\n\\item '研究所'\n\\item '感染'\n\\item '症'\n\\item '疫苗'\n\\item '研究所'\n\\item '合作'\n\\item '利用'\n\\item '真實'\n\\item '數據'\n\\item '數學模型'\n\\item '證實'\n\\item '良好'\n\\item '邊境'\n\\item '管控'\n\\item '詳盡'\n\\item '疫情'\n\\item '調查'\n\\item '確實'\n\\item '隔離'\n\\item '檢疫'\n\\item '以及'\n\\item '民眾'\n\\item '遵行'\n\\item '防疫措施'\n\\item '為'\n\\item '台灣'\n\\item '抗疫'\n\\item '四大'\n\\item '支柱'\n\\item '台灣'\n\\item '對'\n\\item '世界'\n\\item '各國'\n\\item '提供'\n\\item '各項'\n\\item '協助'\n\\item '經驗'\n\\item '分享'\n\\item '期望'\n\\item '幫助'\n\\item '各國'\n\\item '盡快'\n\\item '從'\n\\item '疫情'\n\\item '陰霾'\n\\item '中'\n\\item '走出'\n\\end{enumerate*}\n",
            "text/markdown": "1. '嚴重'\n2. '特殊'\n3. '傳染性肺炎'\n4. '疫情'\n5. '持續'\n6. '全球'\n7. '蔓延'\n8. '已'\n9. '造成'\n10. '三千多萬'\n11. '人'\n12. '感染'\n13. '死亡'\n14. '人數'\n15. '破'\n16. '百萬'\n17. '人'\n18. '歐美'\n19. '醫療體系'\n20. '幾近'\n21. '崩潰'\n22. '各種'\n23. '行動'\n24. '限制'\n25. '對於'\n26. '各國'\n27. '經濟'\n28. '有'\n29. '莫大'\n30. '衝擊'\n31. '然而'\n32. '台灣'\n33. '實行'\n34. '大規模'\n35. '封鎖'\n36. '行動'\n37. '維持'\n38. '正常'\n39. '上班'\n40. '上課'\n41. '各種'\n42. '經濟'\n43. '活動'\n44. '至今'\n45. '無'\n46. '大規模'\n47. '疫情'\n48. '爆發'\n49. '醫療體系'\n50. '仍'\n51. '能'\n52. '正常'\n53. '提供'\n54. '民眾'\n55. '服務'\n56. '顯示'\n57. '台灣'\n58. '防疫'\n59. '政策'\n60. '正確'\n61. '有效'\n62. '獲得'\n63. '世界'\n64. '各國'\n65. '高度肯定'\n66. '國家衛生研究院'\n67. '群體'\n68. '健康'\n69. '科學'\n70. '研究所'\n71. '感染'\n72. '症'\n73. '疫苗'\n74. '研究所'\n75. '合作'\n76. '利用'\n77. '真實'\n78. '數據'\n79. '數學模型'\n80. '證實'\n81. '良好'\n82. '邊境'\n83. '管控'\n84. '詳盡'\n85. '疫情'\n86. '調查'\n87. '確實'\n88. '隔離'\n89. '檢疫'\n90. '以及'\n91. '民眾'\n92. '遵行'\n93. '防疫措施'\n94. '為'\n95. '台灣'\n96. '抗疫'\n97. '四大'\n98. '支柱'\n99. '台灣'\n100. '對'\n101. '世界'\n102. '各國'\n103. '提供'\n104. '各項'\n105. '協助'\n106. '經驗'\n107. '分享'\n108. '期望'\n109. '幫助'\n110. '各國'\n111. '盡快'\n112. '從'\n113. '疫情'\n114. '陰霾'\n115. '中'\n116. '走出'\n\n\n",
            "text/html": [
              "<style>\n",
              ".list-inline {list-style: none; margin:0; padding: 0}\n",
              ".list-inline>li {display: inline-block}\n",
              ".list-inline>li:not(:last-child)::after {content: \"\\00b7\"; padding: 0 .5ex}\n",
              "</style>\n",
              "<ol class=list-inline><li>'嚴重'</li><li>'特殊'</li><li>'傳染性肺炎'</li><li>'疫情'</li><li>'持續'</li><li>'全球'</li><li>'蔓延'</li><li>'已'</li><li>'造成'</li><li>'三千多萬'</li><li>'人'</li><li>'感染'</li><li>'死亡'</li><li>'人數'</li><li>'破'</li><li>'百萬'</li><li>'人'</li><li>'歐美'</li><li>'醫療體系'</li><li>'幾近'</li><li>'崩潰'</li><li>'各種'</li><li>'行動'</li><li>'限制'</li><li>'對於'</li><li>'各國'</li><li>'經濟'</li><li>'有'</li><li>'莫大'</li><li>'衝擊'</li><li>'然而'</li><li>'台灣'</li><li>'實行'</li><li>'大規模'</li><li>'封鎖'</li><li>'行動'</li><li>'維持'</li><li>'正常'</li><li>'上班'</li><li>'上課'</li><li>'各種'</li><li>'經濟'</li><li>'活動'</li><li>'至今'</li><li>'無'</li><li>'大規模'</li><li>'疫情'</li><li>'爆發'</li><li>'醫療體系'</li><li>'仍'</li><li>'能'</li><li>'正常'</li><li>'提供'</li><li>'民眾'</li><li>'服務'</li><li>'顯示'</li><li>'台灣'</li><li>'防疫'</li><li>'政策'</li><li>'正確'</li><li>'有效'</li><li>'獲得'</li><li>'世界'</li><li>'各國'</li><li>'高度肯定'</li><li>'國家衛生研究院'</li><li>'群體'</li><li>'健康'</li><li>'科學'</li><li>'研究所'</li><li>'感染'</li><li>'症'</li><li>'疫苗'</li><li>'研究所'</li><li>'合作'</li><li>'利用'</li><li>'真實'</li><li>'數據'</li><li>'數學模型'</li><li>'證實'</li><li>'良好'</li><li>'邊境'</li><li>'管控'</li><li>'詳盡'</li><li>'疫情'</li><li>'調查'</li><li>'確實'</li><li>'隔離'</li><li>'檢疫'</li><li>'以及'</li><li>'民眾'</li><li>'遵行'</li><li>'防疫措施'</li><li>'為'</li><li>'台灣'</li><li>'抗疫'</li><li>'四大'</li><li>'支柱'</li><li>'台灣'</li><li>'對'</li><li>'世界'</li><li>'各國'</li><li>'提供'</li><li>'各項'</li><li>'協助'</li><li>'經驗'</li><li>'分享'</li><li>'期望'</li><li>'幫助'</li><li>'各國'</li><li>'盡快'</li><li>'從'</li><li>'疫情'</li><li>'陰霾'</li><li>'中'</li><li>'走出'</li></ol>\n"
            ]
          },
          "metadata": {
            "tags": []
          }
        }
      ]
    },
    {
      "cell_type": "code",
      "metadata": {
        "id": "v-XYIf0HjJPM",
        "outputId": "a0c84a97-29eb-43e8-d09c-209d27c489bf",
        "colab": {
          "base_uri": "https://localhost:8080/",
          "height": 221
        }
      },
      "source": [
        "txt_freq <- freq(seg_words)\n",
        "txt_freq <- arrange(txt_freq,desc(freq))\n",
        "head(txt_freq)"
      ],
      "execution_count": null,
      "outputs": [
        {
          "output_type": "display_data",
          "data": {
            "text/plain": [
              "  char freq\n",
              "1 各國 4   \n",
              "2 疫情 4   \n",
              "3 台灣 4   \n",
              "4 行動 2   \n",
              "5 各種 2   \n",
              "6 經濟 2   "
            ],
            "text/latex": "A data.frame: 6 × 2\n\\begin{tabular}{r|ll}\n  & char & freq\\\\\n  & <chr> & <dbl>\\\\\n\\hline\n\t1 & 各國 & 4\\\\\n\t2 & 疫情 & 4\\\\\n\t3 & 台灣 & 4\\\\\n\t4 & 行動 & 2\\\\\n\t5 & 各種 & 2\\\\\n\t6 & 經濟 & 2\\\\\n\\end{tabular}\n",
            "text/markdown": "\nA data.frame: 6 × 2\n\n| <!--/--> | char &lt;chr&gt; | freq &lt;dbl&gt; |\n|---|---|---|\n| 1 | 各國 | 4 |\n| 2 | 疫情 | 4 |\n| 3 | 台灣 | 4 |\n| 4 | 行動 | 2 |\n| 5 | 各種 | 2 |\n| 6 | 經濟 | 2 |\n\n",
            "text/html": [
              "<table>\n",
              "<caption>A data.frame: 6 × 2</caption>\n",
              "<thead>\n",
              "\t<tr><th></th><th scope=col>char</th><th scope=col>freq</th></tr>\n",
              "\t<tr><th></th><th scope=col>&lt;chr&gt;</th><th scope=col>&lt;dbl&gt;</th></tr>\n",
              "</thead>\n",
              "<tbody>\n",
              "\t<tr><th scope=row>1</th><td>各國</td><td>4</td></tr>\n",
              "\t<tr><th scope=row>2</th><td>疫情</td><td>4</td></tr>\n",
              "\t<tr><th scope=row>3</th><td>台灣</td><td>4</td></tr>\n",
              "\t<tr><th scope=row>4</th><td>行動</td><td>2</td></tr>\n",
              "\t<tr><th scope=row>5</th><td>各種</td><td>2</td></tr>\n",
              "\t<tr><th scope=row>6</th><td>經濟</td><td>2</td></tr>\n",
              "</tbody>\n",
              "</table>\n"
            ]
          },
          "metadata": {
            "tags": []
          }
        }
      ]
    },
    {
      "cell_type": "code",
      "metadata": {
        "id": "ui2flLfgjamI",
        "outputId": "a90fc0ef-1425-46c7-980e-2a62a8991bbe",
        "colab": {
          "base_uri": "https://localhost:8080/",
          "height": 1000
        }
      },
      "source": [
        "par(family=(\"Microsoft YaHei\"))\n",
        "wordcloud(txt_freq$char,txt_freq$freq,min.freq = 2,random.order = F,ordered.colors = F,colors=rainbow(nrow(txt_freq)))"
      ],
      "execution_count": null,
      "outputs": [
        {
          "output_type": "stream",
          "text": [
            "Warning message in strwidth(words[i], cex = size[i], ...):\n",
            "“font family 'Microsoft YaHei' not found, will use 'wqy-microhei' instead”\n",
            "Warning message in strheight(words[i], cex = size[i], ...):\n",
            "“font family 'Microsoft YaHei' not found, will use 'sans' instead”\n",
            "Warning message in text.default(x1, y1, words[i], cex = size[i], offset = 0, srt = rotWord * :\n",
            "“font family 'Microsoft YaHei' not found, will use 'wqy-microhei' instead”\n",
            "Warning message in text.default(x1, y1, words[i], cex = size[i], offset = 0, srt = rotWord * :\n",
            "“font family 'Microsoft YaHei' not found, will use 'wqy-microhei' instead”\n",
            "Warning message in text.default(x1, y1, words[i], cex = size[i], offset = 0, srt = rotWord * :\n",
            "“font family 'Microsoft YaHei' not found, will use 'wqy-microhei' instead”\n",
            "Warning message in text.default(x1, y1, words[i], cex = size[i], offset = 0, srt = rotWord * :\n",
            "“font family 'Microsoft YaHei' not found, will use 'wqy-microhei' instead”\n",
            "Warning message in strwidth(words[i], cex = size[i], ...):\n",
            "“font family 'Microsoft YaHei' not found, will use 'wqy-microhei' instead”\n",
            "Warning message in text.default(x1, y1, words[i], cex = size[i], offset = 0, srt = rotWord * :\n",
            "“font family 'Microsoft YaHei' not found, will use 'wqy-microhei' instead”\n",
            "Warning message in text.default(x1, y1, words[i], cex = size[i], offset = 0, srt = rotWord * :\n",
            "“font family 'Microsoft YaHei' not found, will use 'wqy-microhei' instead”\n",
            "Warning message in text.default(x1, y1, words[i], cex = size[i], offset = 0, srt = rotWord * :\n",
            "“font family 'Microsoft YaHei' not found, will use 'wqy-microhei' instead”\n",
            "Warning message in text.default(x1, y1, words[i], cex = size[i], offset = 0, srt = rotWord * :\n",
            "“font family 'Microsoft YaHei' not found, will use 'wqy-microhei' instead”\n",
            "Warning message in strwidth(words[i], cex = size[i], ...):\n",
            "“font family 'Microsoft YaHei' not found, will use 'wqy-microhei' instead”\n",
            "Warning message in text.default(x1, y1, words[i], cex = size[i], offset = 0, srt = rotWord * :\n",
            "“font family 'Microsoft YaHei' not found, will use 'wqy-microhei' instead”\n",
            "Warning message in text.default(x1, y1, words[i], cex = size[i], offset = 0, srt = rotWord * :\n",
            "“font family 'Microsoft YaHei' not found, will use 'wqy-microhei' instead”\n",
            "Warning message in text.default(x1, y1, words[i], cex = size[i], offset = 0, srt = rotWord * :\n",
            "“font family 'Microsoft YaHei' not found, will use 'wqy-microhei' instead”\n",
            "Warning message in text.default(x1, y1, words[i], cex = size[i], offset = 0, srt = rotWord * :\n",
            "“font family 'Microsoft YaHei' not found, will use 'wqy-microhei' instead”\n",
            "Warning message in strwidth(words[i], cex = size[i], ...):\n",
            "“font family 'Microsoft YaHei' not found, will use 'wqy-microhei' instead”\n",
            "Warning message in strheight(words[i], cex = size[i], ...):\n",
            "“font family 'Microsoft YaHei' not found, will use 'sans' instead”\n",
            "Warning message in text.default(x1, y1, words[i], cex = size[i], offset = 0, srt = rotWord * :\n",
            "“font family 'Microsoft YaHei' not found, will use 'wqy-microhei' instead”\n",
            "Warning message in text.default(x1, y1, words[i], cex = size[i], offset = 0, srt = rotWord * :\n",
            "“font family 'Microsoft YaHei' not found, will use 'wqy-microhei' instead”\n",
            "Warning message in text.default(x1, y1, words[i], cex = size[i], offset = 0, srt = rotWord * :\n",
            "“font family 'Microsoft YaHei' not found, will use 'wqy-microhei' instead”\n",
            "Warning message in text.default(x1, y1, words[i], cex = size[i], offset = 0, srt = rotWord * :\n",
            "“font family 'Microsoft YaHei' not found, will use 'wqy-microhei' instead”\n",
            "Warning message in strwidth(words[i], cex = size[i], ...):\n",
            "“font family 'Microsoft YaHei' not found, will use 'wqy-microhei' instead”\n",
            "Warning message in text.default(x1, y1, words[i], cex = size[i], offset = 0, srt = rotWord * :\n",
            "“font family 'Microsoft YaHei' not found, will use 'wqy-microhei' instead”\n",
            "Warning message in text.default(x1, y1, words[i], cex = size[i], offset = 0, srt = rotWord * :\n",
            "“font family 'Microsoft YaHei' not found, will use 'wqy-microhei' instead”\n",
            "Warning message in text.default(x1, y1, words[i], cex = size[i], offset = 0, srt = rotWord * :\n",
            "“font family 'Microsoft YaHei' not found, will use 'wqy-microhei' instead”\n",
            "Warning message in text.default(x1, y1, words[i], cex = size[i], offset = 0, srt = rotWord * :\n",
            "“font family 'Microsoft YaHei' not found, will use 'wqy-microhei' instead”\n",
            "Warning message in strwidth(words[i], cex = size[i], ...):\n",
            "“font family 'Microsoft YaHei' not found, will use 'wqy-microhei' instead”\n",
            "Warning message in text.default(x1, y1, words[i], cex = size[i], offset = 0, srt = rotWord * :\n",
            "“font family 'Microsoft YaHei' not found, will use 'wqy-microhei' instead”\n",
            "Warning message in text.default(x1, y1, words[i], cex = size[i], offset = 0, srt = rotWord * :\n",
            "“font family 'Microsoft YaHei' not found, will use 'wqy-microhei' instead”\n",
            "Warning message in text.default(x1, y1, words[i], cex = size[i], offset = 0, srt = rotWord * :\n",
            "“font family 'Microsoft YaHei' not found, will use 'wqy-microhei' instead”\n",
            "Warning message in text.default(x1, y1, words[i], cex = size[i], offset = 0, srt = rotWord * :\n",
            "“font family 'Microsoft YaHei' not found, will use 'wqy-microhei' instead”\n",
            "Warning message in strwidth(words[i], cex = size[i], ...):\n",
            "“font family 'Microsoft YaHei' not found, will use 'wqy-microhei' instead”\n",
            "Warning message in text.default(x1, y1, words[i], cex = size[i], offset = 0, srt = rotWord * :\n",
            "“font family 'Microsoft YaHei' not found, will use 'wqy-microhei' instead”\n",
            "Warning message in text.default(x1, y1, words[i], cex = size[i], offset = 0, srt = rotWord * :\n",
            "“font family 'Microsoft YaHei' not found, will use 'wqy-microhei' instead”\n",
            "Warning message in text.default(x1, y1, words[i], cex = size[i], offset = 0, srt = rotWord * :\n",
            "“font family 'Microsoft YaHei' not found, will use 'wqy-microhei' instead”\n",
            "Warning message in text.default(x1, y1, words[i], cex = size[i], offset = 0, srt = rotWord * :\n",
            "“font family 'Microsoft YaHei' not found, will use 'wqy-microhei' instead”\n",
            "Warning message in text.default(x1, y1, words[i], cex = size[i], offset = 0, srt = rotWord * :\n",
            "“font family 'Microsoft YaHei' not found, will use 'wqy-microhei' instead”\n",
            "Warning message in strwidth(words[i], cex = size[i], ...):\n",
            "“font family 'Microsoft YaHei' not found, will use 'wqy-microhei' instead”\n",
            "Warning message in text.default(x1, y1, words[i], cex = size[i], offset = 0, srt = rotWord * :\n",
            "“font family 'Microsoft YaHei' not found, will use 'wqy-microhei' instead”\n",
            "Warning message in text.default(x1, y1, words[i], cex = size[i], offset = 0, srt = rotWord * :\n",
            "“font family 'Microsoft YaHei' not found, will use 'wqy-microhei' instead”\n",
            "Warning message in text.default(x1, y1, words[i], cex = size[i], offset = 0, srt = rotWord * :\n",
            "“font family 'Microsoft YaHei' not found, will use 'wqy-microhei' instead”\n",
            "Warning message in text.default(x1, y1, words[i], cex = size[i], offset = 0, srt = rotWord * :\n",
            "“font family 'Microsoft YaHei' not found, will use 'wqy-microhei' instead”\n",
            "Warning message in strwidth(words[i], cex = size[i], ...):\n",
            "“font family 'Microsoft YaHei' not found, will use 'wqy-microhei' instead”\n",
            "Warning message in text.default(x1, y1, words[i], cex = size[i], offset = 0, srt = rotWord * :\n",
            "“font family 'Microsoft YaHei' not found, will use 'wqy-microhei' instead”\n",
            "Warning message in text.default(x1, y1, words[i], cex = size[i], offset = 0, srt = rotWord * :\n",
            "“font family 'Microsoft YaHei' not found, will use 'wqy-microhei' instead”\n",
            "Warning message in text.default(x1, y1, words[i], cex = size[i], offset = 0, srt = rotWord * :\n",
            "“font family 'Microsoft YaHei' not found, will use 'wqy-microhei' instead”\n",
            "Warning message in text.default(x1, y1, words[i], cex = size[i], offset = 0, srt = rotWord * :\n",
            "“font family 'Microsoft YaHei' not found, will use 'wqy-microhei' instead”\n",
            "Warning message in text.default(x1, y1, words[i], cex = size[i], offset = 0, srt = rotWord * :\n",
            "“font family 'Microsoft YaHei' not found, will use 'wqy-microhei' instead”\n",
            "Warning message in text.default(x1, y1, words[i], cex = size[i], offset = 0, srt = rotWord * :\n",
            "“font family 'Microsoft YaHei' not found, will use 'wqy-microhei' instead”\n",
            "Warning message in strwidth(words[i], cex = size[i], ...):\n",
            "“font family 'Microsoft YaHei' not found, will use 'wqy-microhei' instead”\n",
            "Warning message in text.default(x1, y1, words[i], cex = size[i], offset = 0, srt = rotWord * :\n",
            "“font family 'Microsoft YaHei' not found, will use 'wqy-microhei' instead”\n",
            "Warning message in text.default(x1, y1, words[i], cex = size[i], offset = 0, srt = rotWord * :\n",
            "“font family 'Microsoft YaHei' not found, will use 'wqy-microhei' instead”\n",
            "Warning message in text.default(x1, y1, words[i], cex = size[i], offset = 0, srt = rotWord * :\n",
            "“font family 'Microsoft YaHei' not found, will use 'wqy-microhei' instead”\n",
            "Warning message in text.default(x1, y1, words[i], cex = size[i], offset = 0, srt = rotWord * :\n",
            "“font family 'Microsoft YaHei' not found, will use 'wqy-microhei' instead”\n",
            "Warning message in text.default(x1, y1, words[i], cex = size[i], offset = 0, srt = rotWord * :\n",
            "“font family 'Microsoft YaHei' not found, will use 'wqy-microhei' instead”\n",
            "Warning message in strwidth(words[i], cex = size[i], ...):\n",
            "“font family 'Microsoft YaHei' not found, will use 'wqy-microhei' instead”\n",
            "Warning message in text.default(x1, y1, words[i], cex = size[i], offset = 0, srt = rotWord * :\n",
            "“font family 'Microsoft YaHei' not found, will use 'wqy-microhei' instead”\n",
            "Warning message in text.default(x1, y1, words[i], cex = size[i], offset = 0, srt = rotWord * :\n",
            "“font family 'Microsoft YaHei' not found, will use 'wqy-microhei' instead”\n",
            "Warning message in text.default(x1, y1, words[i], cex = size[i], offset = 0, srt = rotWord * :\n",
            "“font family 'Microsoft YaHei' not found, will use 'wqy-microhei' instead”\n",
            "Warning message in text.default(x1, y1, words[i], cex = size[i], offset = 0, srt = rotWord * :\n",
            "“font family 'Microsoft YaHei' not found, will use 'wqy-microhei' instead”\n",
            "Warning message in strwidth(words[i], cex = size[i], ...):\n",
            "“font family 'Microsoft YaHei' not found, will use 'wqy-microhei' instead”\n",
            "Warning message in text.default(x1, y1, words[i], cex = size[i], offset = 0, srt = rotWord * :\n",
            "“font family 'Microsoft YaHei' not found, will use 'wqy-microhei' instead”\n",
            "Warning message in text.default(x1, y1, words[i], cex = size[i], offset = 0, srt = rotWord * :\n",
            "“font family 'Microsoft YaHei' not found, will use 'wqy-microhei' instead”\n",
            "Warning message in text.default(x1, y1, words[i], cex = size[i], offset = 0, srt = rotWord * :\n",
            "“font family 'Microsoft YaHei' not found, will use 'wqy-microhei' instead”\n",
            "Warning message in strwidth(words[i], cex = size[i], ...):\n",
            "“font family 'Microsoft YaHei' not found, will use 'wqy-microhei' instead”\n",
            "Warning message in text.default(x1, y1, words[i], cex = size[i], offset = 0, srt = rotWord * :\n",
            "“font family 'Microsoft YaHei' not found, will use 'wqy-microhei' instead”\n",
            "Warning message in text.default(x1, y1, words[i], cex = size[i], offset = 0, srt = rotWord * :\n",
            "“font family 'Microsoft YaHei' not found, will use 'wqy-microhei' instead”\n",
            "Warning message in text.default(x1, y1, words[i], cex = size[i], offset = 0, srt = rotWord * :\n",
            "“font family 'Microsoft YaHei' not found, will use 'wqy-microhei' instead”\n",
            "Warning message in text.default(x1, y1, words[i], cex = size[i], offset = 0, srt = rotWord * :\n",
            "“font family 'Microsoft YaHei' not found, will use 'wqy-microhei' instead”\n",
            "Warning message in strwidth(words[i], cex = size[i], ...):\n",
            "“font family 'Microsoft YaHei' not found, will use 'wqy-microhei' instead”\n",
            "Warning message in text.default(x1, y1, words[i], cex = size[i], offset = 0, srt = rotWord * :\n",
            "“font family 'Microsoft YaHei' not found, will use 'wqy-microhei' instead”\n",
            "Warning message in text.default(x1, y1, words[i], cex = size[i], offset = 0, srt = rotWord * :\n",
            "“font family 'Microsoft YaHei' not found, will use 'wqy-microhei' instead”\n",
            "Warning message in text.default(x1, y1, words[i], cex = size[i], offset = 0, srt = rotWord * :\n",
            "“font family 'Microsoft YaHei' not found, will use 'wqy-microhei' instead”\n",
            "Warning message in text.default(x1, y1, words[i], cex = size[i], offset = 0, srt = rotWord * :\n",
            "“font family 'Microsoft YaHei' not found, will use 'wqy-microhei' instead”\n",
            "Warning message in strwidth(words[i], cex = size[i], ...):\n",
            "“font family 'Microsoft YaHei' not found, will use 'wqy-microhei' instead”\n",
            "Warning message in text.default(x1, y1, words[i], cex = size[i], offset = 0, srt = rotWord * :\n",
            "“font family 'Microsoft YaHei' not found, will use 'wqy-microhei' instead”\n",
            "Warning message in text.default(x1, y1, words[i], cex = size[i], offset = 0, srt = rotWord * :\n",
            "“font family 'Microsoft YaHei' not found, will use 'wqy-microhei' instead”\n",
            "Warning message in text.default(x1, y1, words[i], cex = size[i], offset = 0, srt = rotWord * :\n",
            "“font family 'Microsoft YaHei' not found, will use 'wqy-microhei' instead”\n",
            "Warning message in text.default(x1, y1, words[i], cex = size[i], offset = 0, srt = rotWord * :\n",
            "“font family 'Microsoft YaHei' not found, will use 'wqy-microhei' instead”\n"
          ],
          "name": "stderr"
        },
        {
          "output_type": "display_data",
          "data": {
            "image/png": "[encoded data removed]",
            "text/plain": [
              "plot without title"
            ]
          },
          "metadata": {
            "tags": [],
            "image/png": {
              "width": 420,
              "height": 420
            }
          }
        }
      ]
    }
  ]
}
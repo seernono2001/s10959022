{
  "nbformat": 4,
  "nbformat_minor": 0,
  "metadata": {
    "colab": {
      "name": "1008json.ipynb",
      "provenance": [],
      "collapsed_sections": [],
      "include_colab_link": true
    },
    "kernelspec": {
      "name": "ir",
      "display_name": "R"
    }
  },
  "cells": [
    {
      "cell_type": "markdown",
      "metadata": {
        "id": "view-in-github",
        "colab_type": "text"
      },
      "source": [
        "<a href=\"https://colab.research.google.com/github/seernono2001/s10959022/blob/master/1008csv.ipynb\" target=\"_parent\"><img src=\"https://colab.research.google.com/assets/colab-badge.svg\" alt=\"Open In Colab\"/></a>"
      ]
    },
    {
      "cell_type": "code",
      "metadata": {
        "id": "3gY1cbgPgqSN",
        "outputId": "1010757c-a97c-4946-f94a-d00c9176fe89",
        "colab": {
          "base_uri": "https://localhost:8080/",
          "height": 34
        }
      },
      "source": [
        "system(\"ls\",TRUE)"
      ],
      "execution_count": null,
      "outputs": [
        {
          "output_type": "display_data",
          "data": {
            "text/plain": [
              "[1] \"20191203動物資料.csv\" \"sample_data\"         "
            ],
            "text/latex": "\\begin{enumerate*}\n\\item '20191203動物資料.csv'\n\\item 'sample\\_data'\n\\end{enumerate*}\n",
            "text/markdown": "1. '20191203動物資料.csv'\n2. 'sample_data'\n\n\n",
            "text/html": [
              "<style>\n",
              ".list-inline {list-style: none; margin:0; padding: 0}\n",
              ".list-inline>li {display: inline-block}\n",
              ".list-inline>li:not(:last-child)::after {content: \"\\00b7\"; padding: 0 .5ex}\n",
              "</style>\n",
              "<ol class=list-inline><li>'20191203動物資料.csv'</li><li>'sample_data'</li></ol>\n"
            ]
          },
          "metadata": {
            "tags": []
          }
        }
      ]
    },
    {
      "cell_type": "code",
      "metadata": {
        "id": "yX6GfUYug7vA",
        "outputId": "b8300a6f-13a9-46e7-d6c9-b1730e25e24f",
        "colab": {
          "base_uri": "https://localhost:8080/",
          "height": 34
        }
      },
      "source": [
        "head(dataset$A_Name_Ch,n=10)"
      ],
      "execution_count": null,
      "outputs": [
        {
          "output_type": "display_data",
          "data": {
            "text/plain": [
              " [1] \"大貓熊\"     \"國王企鵝\"   \"黑腳企鵝\"   \"弓角羚羊\"   \"非洲野驢\"  \n",
              " [6] \"單峰駱駝\"   \"雙峰駱駝\"   \"人猿\"       \"大長臂猿\"   \"印度大犀鳥\""
            ],
            "text/latex": "\\begin{enumerate*}\n\\item '大貓熊'\n\\item '國王企鵝'\n\\item '黑腳企鵝'\n\\item '弓角羚羊'\n\\item '非洲野驢'\n\\item '單峰駱駝'\n\\item '雙峰駱駝'\n\\item '人猿'\n\\item '大長臂猿'\n\\item '印度大犀鳥'\n\\end{enumerate*}\n",
            "text/markdown": "1. '大貓熊'\n2. '國王企鵝'\n3. '黑腳企鵝'\n4. '弓角羚羊'\n5. '非洲野驢'\n6. '單峰駱駝'\n7. '雙峰駱駝'\n8. '人猿'\n9. '大長臂猿'\n10. '印度大犀鳥'\n\n\n",
            "text/html": [
              "<style>\n",
              ".list-inline {list-style: none; margin:0; padding: 0}\n",
              ".list-inline>li {display: inline-block}\n",
              ".list-inline>li:not(:last-child)::after {content: \"\\00b7\"; padding: 0 .5ex}\n",
              "</style>\n",
              "<ol class=list-inline><li>'大貓熊'</li><li>'國王企鵝'</li><li>'黑腳企鵝'</li><li>'弓角羚羊'</li><li>'非洲野驢'</li><li>'單峰駱駝'</li><li>'雙峰駱駝'</li><li>'人猿'</li><li>'大長臂猿'</li><li>'印度大犀鳥'</li></ol>\n"
            ]
          },
          "metadata": {
            "tags": []
          }
        }
      ]
    },
    {
      "cell_type": "code",
      "metadata": {
        "id": "AcZaynwThClg",
        "outputId": "7b77a3c9-af3e-4e30-d4e3-ba1c60c413cd",
        "colab": {
          "base_uri": "https://localhost:8080/",
          "height": 34
        }
      },
      "source": [
        "tail(dataset$A_Name_Ch,n=10)"
      ],
      "execution_count": null,
      "outputs": [
        {
          "output_type": "display_data",
          "data": {
            "text/plain": [
              " [1] \"棉頭絹猴\"     \"阿氏夜猴\"     \"小懶猴\"       \"粗尾侏儒狐猴\" \"蜜熊(未展出)\"\n",
              " [6] \"金色箭毒蛙\"   \"黃帶箭毒蛙\"   \"迷彩箭毒蛙\"   \"鈷藍箭毒蛙\"   \"象魚\"        "
            ],
            "text/latex": "\\begin{enumerate*}\n\\item '棉頭絹猴'\n\\item '阿氏夜猴'\n\\item '小懶猴'\n\\item '粗尾侏儒狐猴'\n\\item '蜜熊(未展出)'\n\\item '金色箭毒蛙'\n\\item '黃帶箭毒蛙'\n\\item '迷彩箭毒蛙'\n\\item '鈷藍箭毒蛙'\n\\item '象魚'\n\\end{enumerate*}\n",
            "text/markdown": "1. '棉頭絹猴'\n2. '阿氏夜猴'\n3. '小懶猴'\n4. '粗尾侏儒狐猴'\n5. '蜜熊(未展出)'\n6. '金色箭毒蛙'\n7. '黃帶箭毒蛙'\n8. '迷彩箭毒蛙'\n9. '鈷藍箭毒蛙'\n10. '象魚'\n\n\n",
            "text/html": [
              "<style>\n",
              ".list-inline {list-style: none; margin:0; padding: 0}\n",
              ".list-inline>li {display: inline-block}\n",
              ".list-inline>li:not(:last-child)::after {content: \"\\00b7\"; padding: 0 .5ex}\n",
              "</style>\n",
              "<ol class=list-inline><li>'棉頭絹猴'</li><li>'阿氏夜猴'</li><li>'小懶猴'</li><li>'粗尾侏儒狐猴'</li><li>'蜜熊(未展出)'</li><li>'金色箭毒蛙'</li><li>'黃帶箭毒蛙'</li><li>'迷彩箭毒蛙'</li><li>'鈷藍箭毒蛙'</li><li>'象魚'</li></ol>\n"
            ]
          },
          "metadata": {
            "tags": []
          }
        }
      ]
    },
    {
      "cell_type": "code",
      "metadata": {
        "id": "821nAsRbhF33",
        "outputId": "1f806e55-aaea-467a-8371-6b15c92b8cf0",
        "colab": {
          "base_uri": "https://localhost:8080/",
          "height": 208
        }
      },
      "source": [
        "dataset[grepl(\"企鵝\",dataset$A_Name_Ch),]"
      ],
      "execution_count": null,
      "outputs": [
        {
          "output_type": "display_data",
          "data": {
            "text/plain": [
              "  A_Name_Ch A_Summary A_Keywords     A_AlsoKnown\n",
              "2 國王企鵝            企鵝；國王企鵝            \n",
              "3 黑腳企鵝                                      \n",
              "  A_Geo                                 A_Location A_POIGroup A_Name_En      \n",
              "2 MULTIPOINT ((121.5907654 24.9931338)) 企鵝館                King Penguin   \n",
              "3 MULTIPOINT ((121.5910631 24.9928761)) 企鵝館                Jackass penguin\n",
              "  A_Name_Latin            A_Phylum   ⋯ A_pdf02_URL A_Voice01_ALT A_Voice01_URL\n",
              "2 Aptenodytes patagonicus 脊索動物門 ⋯                                        \n",
              "3 Spheniscus demersu      脊索動物門 ⋯                                        \n",
              "  A_Voice02_ALT A_Voice02_URL A_Voice03_ALT A_Voice03_URL\n",
              "2                                                        \n",
              "3                                                        \n",
              "  A_Vedio_URL                                                             \n",
              "2 https://www.youtube.com/playlist?list=PLWYak5Af5-DuSoWNgHVIi8vH8AlN6Rzg4\n",
              "3 https://www.youtube.com/playlist?list=PLWYak5Af5-Dvty-i1vf2Qi3_pHasXp3LI\n",
              "  A_Update  A_CID\n",
              "2 2017/9/29 2    \n",
              "3 2017/9/29 3    "
            ],
            "text/latex": "A data.frame: 2 × 46\n\\begin{tabular}{r|lllllllllllllllllllll}\n  & A\\_Name\\_Ch & A\\_Summary & A\\_Keywords & A\\_AlsoKnown & A\\_Geo & A\\_Location & A\\_POIGroup & A\\_Name\\_En & A\\_Name\\_Latin & A\\_Phylum & ⋯ & A\\_pdf02\\_URL & A\\_Voice01\\_ALT & A\\_Voice01\\_URL & A\\_Voice02\\_ALT & A\\_Voice02\\_URL & A\\_Voice03\\_ALT & A\\_Voice03\\_URL & A\\_Vedio\\_URL & A\\_Update & A\\_CID\\\\\n  & <chr> & <chr> & <chr> & <chr> & <chr> & <chr> & <chr> & <chr> & <chr> & <chr> & ⋯ & <chr> & <chr> & <chr> & <chr> & <chr> & <chr> & <chr> & <chr> & <chr> & <int>\\\\\n\\hline\n\t2 & 國王企鵝 &  & 企鵝；國王企鵝 &  & MULTIPOINT ((121.5907654 24.9931338)) & 企鵝館 &  & King Penguin    & Aptenodytes patagonicus & 脊索動物門 & ⋯ &  &  &  &  &  &  &  & https://www.youtube.com/playlist?list=PLWYak5Af5-DuSoWNgHVIi8vH8AlN6Rzg4 & 2017/9/29 & 2\\\\\n\t3 & 黑腳企鵝 &  &                &  & MULTIPOINT ((121.5910631 24.9928761)) & 企鵝館 &  & Jackass penguin & Spheniscus demersu      & 脊索動物門 & ⋯ &  &  &  &  &  &  &  & https://www.youtube.com/playlist?list=PLWYak5Af5-Dvty-i1vf2Qi3\\_pHasXp3LI & 2017/9/29 & 3\\\\\n\\end{tabular}\n",
            "text/markdown": "\nA data.frame: 2 × 46\n\n| <!--/--> | A_Name_Ch &lt;chr&gt; | A_Summary &lt;chr&gt; | A_Keywords &lt;chr&gt; | A_AlsoKnown &lt;chr&gt; | A_Geo &lt;chr&gt; | A_Location &lt;chr&gt; | A_POIGroup &lt;chr&gt; | A_Name_En &lt;chr&gt; | A_Name_Latin &lt;chr&gt; | A_Phylum &lt;chr&gt; | ⋯ ⋯ | A_pdf02_URL &lt;chr&gt; | A_Voice01_ALT &lt;chr&gt; | A_Voice01_URL &lt;chr&gt; | A_Voice02_ALT &lt;chr&gt; | A_Voice02_URL &lt;chr&gt; | A_Voice03_ALT &lt;chr&gt; | A_Voice03_URL &lt;chr&gt; | A_Vedio_URL &lt;chr&gt; | A_Update &lt;chr&gt; | A_CID &lt;int&gt; |\n|---|---|---|---|---|---|---|---|---|---|---|---|---|---|---|---|---|---|---|---|---|---|\n| 2 | 國王企鵝 | <!----> | 企鵝；國王企鵝 | <!----> | MULTIPOINT ((121.5907654 24.9931338)) | 企鵝館 | <!----> | King Penguin    | Aptenodytes patagonicus | 脊索動物門 | ⋯ | <!----> | <!----> | <!----> | <!----> | <!----> | <!----> | <!----> | https://www.youtube.com/playlist?list=PLWYak5Af5-DuSoWNgHVIi8vH8AlN6Rzg4 | 2017/9/29 | 2 |\n| 3 | 黑腳企鵝 | <!----> | <!----> | <!----> | MULTIPOINT ((121.5910631 24.9928761)) | 企鵝館 | <!----> | Jackass penguin | Spheniscus demersu      | 脊索動物門 | ⋯ | <!----> | <!----> | <!----> | <!----> | <!----> | <!----> | <!----> | https://www.youtube.com/playlist?list=PLWYak5Af5-Dvty-i1vf2Qi3_pHasXp3LI | 2017/9/29 | 3 |\n\n",
            "text/html": [
              "<table>\n",
              "<caption>A data.frame: 2 × 46</caption>\n",
              "<thead>\n",
              "\t<tr><th></th><th scope=col>A_Name_Ch</th><th scope=col>A_Summary</th><th scope=col>A_Keywords</th><th scope=col>A_AlsoKnown</th><th scope=col>A_Geo</th><th scope=col>A_Location</th><th scope=col>A_POIGroup</th><th scope=col>A_Name_En</th><th scope=col>A_Name_Latin</th><th scope=col>A_Phylum</th><th scope=col>⋯</th><th scope=col>A_pdf02_URL</th><th scope=col>A_Voice01_ALT</th><th scope=col>A_Voice01_URL</th><th scope=col>A_Voice02_ALT</th><th scope=col>A_Voice02_URL</th><th scope=col>A_Voice03_ALT</th><th scope=col>A_Voice03_URL</th><th scope=col>A_Vedio_URL</th><th scope=col>A_Update</th><th scope=col>A_CID</th></tr>\n",
              "\t<tr><th></th><th scope=col>&lt;chr&gt;</th><th scope=col>&lt;chr&gt;</th><th scope=col>&lt;chr&gt;</th><th scope=col>&lt;chr&gt;</th><th scope=col>&lt;chr&gt;</th><th scope=col>&lt;chr&gt;</th><th scope=col>&lt;chr&gt;</th><th scope=col>&lt;chr&gt;</th><th scope=col>&lt;chr&gt;</th><th scope=col>&lt;chr&gt;</th><th scope=col>⋯</th><th scope=col>&lt;chr&gt;</th><th scope=col>&lt;chr&gt;</th><th scope=col>&lt;chr&gt;</th><th scope=col>&lt;chr&gt;</th><th scope=col>&lt;chr&gt;</th><th scope=col>&lt;chr&gt;</th><th scope=col>&lt;chr&gt;</th><th scope=col>&lt;chr&gt;</th><th scope=col>&lt;chr&gt;</th><th scope=col>&lt;int&gt;</th></tr>\n",
              "</thead>\n",
              "<tbody>\n",
              "\t<tr><th scope=row>2</th><td>國王企鵝</td><td></td><td>企鵝；國王企鵝</td><td></td><td>MULTIPOINT ((121.5907654 24.9931338))</td><td>企鵝館</td><td></td><td>King Penguin   </td><td>Aptenodytes patagonicus</td><td>脊索動物門</td><td>⋯</td><td></td><td></td><td></td><td></td><td></td><td></td><td></td><td>https://www.youtube.com/playlist?list=PLWYak5Af5-DuSoWNgHVIi8vH8AlN6Rzg4</td><td>2017/9/29</td><td>2</td></tr>\n",
              "\t<tr><th scope=row>3</th><td>黑腳企鵝</td><td></td><td>              </td><td></td><td>MULTIPOINT ((121.5910631 24.9928761))</td><td>企鵝館</td><td></td><td>Jackass penguin</td><td>Spheniscus demersu     </td><td>脊索動物門</td><td>⋯</td><td></td><td></td><td></td><td></td><td></td><td></td><td></td><td>https://www.youtube.com/playlist?list=PLWYak5Af5-Dvty-i1vf2Qi3_pHasXp3LI</td><td>2017/9/29</td><td>3</td></tr>\n",
              "</tbody>\n",
              "</table>\n"
            ]
          },
          "metadata": {
            "tags": []
          }
        }
      ]
    },
    {
      "cell_type": "code",
      "metadata": {
        "id": "oOLu91HThWdv",
        "outputId": "769793e3-689c-4df9-c5c8-9dbfc13f8ec8",
        "colab": {
          "base_uri": "https://localhost:8080/",
          "height": 187
        }
      },
      "source": [
        "dataset[grepl(\"人\",dataset$A_Name_Ch),]"
      ],
      "execution_count": null,
      "outputs": [
        {
          "output_type": "display_data",
          "data": {
            "text/plain": [
              "  A_Name_Ch A_Summary A_Keywords A_AlsoKnown\n",
              "8 人猿                                      \n",
              "  A_Geo                                                           A_Location\n",
              "8 MULTIPOINT ((121.5834381 24.9952326), (121.5832482 24.9963699)) 熱帶雨林區\n",
              "  A_POIGroup A_Name_En A_Name_Latin   A_Phylum   ⋯ A_pdf02_URL A_Voice01_ALT\n",
              "8            Orangutan Pongo pygmaeus 脊索動物門 ⋯                          \n",
              "  A_Voice01_URL A_Voice02_ALT A_Voice02_URL A_Voice03_ALT A_Voice03_URL\n",
              "8                                                                      \n",
              "  A_Vedio_URL                                                             \n",
              "8 https://www.youtube.com/playlist?list=PLWYak5Af5-DtvjgAHJ9EPpco4ZE3aRT4N\n",
              "  A_Update  A_CID\n",
              "8 2017/9/29 7    "
            ],
            "text/latex": "A data.frame: 1 × 46\n\\begin{tabular}{r|lllllllllllllllllllll}\n  & A\\_Name\\_Ch & A\\_Summary & A\\_Keywords & A\\_AlsoKnown & A\\_Geo & A\\_Location & A\\_POIGroup & A\\_Name\\_En & A\\_Name\\_Latin & A\\_Phylum & ⋯ & A\\_pdf02\\_URL & A\\_Voice01\\_ALT & A\\_Voice01\\_URL & A\\_Voice02\\_ALT & A\\_Voice02\\_URL & A\\_Voice03\\_ALT & A\\_Voice03\\_URL & A\\_Vedio\\_URL & A\\_Update & A\\_CID\\\\\n  & <chr> & <chr> & <chr> & <chr> & <chr> & <chr> & <chr> & <chr> & <chr> & <chr> & ⋯ & <chr> & <chr> & <chr> & <chr> & <chr> & <chr> & <chr> & <chr> & <chr> & <int>\\\\\n\\hline\n\t8 & 人猿 &  &  &  & MULTIPOINT ((121.5834381 24.9952326), (121.5832482 24.9963699)) & 熱帶雨林區 &  & Orangutan & Pongo pygmaeus & 脊索動物門 & ⋯ &  &  &  &  &  &  &  & https://www.youtube.com/playlist?list=PLWYak5Af5-DtvjgAHJ9EPpco4ZE3aRT4N & 2017/9/29 & 7\\\\\n\\end{tabular}\n",
            "text/markdown": "\nA data.frame: 1 × 46\n\n| <!--/--> | A_Name_Ch &lt;chr&gt; | A_Summary &lt;chr&gt; | A_Keywords &lt;chr&gt; | A_AlsoKnown &lt;chr&gt; | A_Geo &lt;chr&gt; | A_Location &lt;chr&gt; | A_POIGroup &lt;chr&gt; | A_Name_En &lt;chr&gt; | A_Name_Latin &lt;chr&gt; | A_Phylum &lt;chr&gt; | ⋯ ⋯ | A_pdf02_URL &lt;chr&gt; | A_Voice01_ALT &lt;chr&gt; | A_Voice01_URL &lt;chr&gt; | A_Voice02_ALT &lt;chr&gt; | A_Voice02_URL &lt;chr&gt; | A_Voice03_ALT &lt;chr&gt; | A_Voice03_URL &lt;chr&gt; | A_Vedio_URL &lt;chr&gt; | A_Update &lt;chr&gt; | A_CID &lt;int&gt; |\n|---|---|---|---|---|---|---|---|---|---|---|---|---|---|---|---|---|---|---|---|---|---|\n| 8 | 人猿 | <!----> | <!----> | <!----> | MULTIPOINT ((121.5834381 24.9952326), (121.5832482 24.9963699)) | 熱帶雨林區 | <!----> | Orangutan | Pongo pygmaeus | 脊索動物門 | ⋯ | <!----> | <!----> | <!----> | <!----> | <!----> | <!----> | <!----> | https://www.youtube.com/playlist?list=PLWYak5Af5-DtvjgAHJ9EPpco4ZE3aRT4N | 2017/9/29 | 7 |\n\n",
            "text/html": [
              "<table>\n",
              "<caption>A data.frame: 1 × 46</caption>\n",
              "<thead>\n",
              "\t<tr><th></th><th scope=col>A_Name_Ch</th><th scope=col>A_Summary</th><th scope=col>A_Keywords</th><th scope=col>A_AlsoKnown</th><th scope=col>A_Geo</th><th scope=col>A_Location</th><th scope=col>A_POIGroup</th><th scope=col>A_Name_En</th><th scope=col>A_Name_Latin</th><th scope=col>A_Phylum</th><th scope=col>⋯</th><th scope=col>A_pdf02_URL</th><th scope=col>A_Voice01_ALT</th><th scope=col>A_Voice01_URL</th><th scope=col>A_Voice02_ALT</th><th scope=col>A_Voice02_URL</th><th scope=col>A_Voice03_ALT</th><th scope=col>A_Voice03_URL</th><th scope=col>A_Vedio_URL</th><th scope=col>A_Update</th><th scope=col>A_CID</th></tr>\n",
              "\t<tr><th></th><th scope=col>&lt;chr&gt;</th><th scope=col>&lt;chr&gt;</th><th scope=col>&lt;chr&gt;</th><th scope=col>&lt;chr&gt;</th><th scope=col>&lt;chr&gt;</th><th scope=col>&lt;chr&gt;</th><th scope=col>&lt;chr&gt;</th><th scope=col>&lt;chr&gt;</th><th scope=col>&lt;chr&gt;</th><th scope=col>&lt;chr&gt;</th><th scope=col>⋯</th><th scope=col>&lt;chr&gt;</th><th scope=col>&lt;chr&gt;</th><th scope=col>&lt;chr&gt;</th><th scope=col>&lt;chr&gt;</th><th scope=col>&lt;chr&gt;</th><th scope=col>&lt;chr&gt;</th><th scope=col>&lt;chr&gt;</th><th scope=col>&lt;chr&gt;</th><th scope=col>&lt;chr&gt;</th><th scope=col>&lt;int&gt;</th></tr>\n",
              "</thead>\n",
              "<tbody>\n",
              "\t<tr><th scope=row>8</th><td>人猿</td><td></td><td></td><td></td><td>MULTIPOINT ((121.5834381 24.9952326), (121.5832482 24.9963699))</td><td>熱帶雨林區</td><td></td><td>Orangutan</td><td>Pongo pygmaeus</td><td>脊索動物門</td><td>⋯</td><td></td><td></td><td></td><td></td><td></td><td></td><td></td><td>https://www.youtube.com/playlist?list=PLWYak5Af5-DtvjgAHJ9EPpco4ZE3aRT4N</td><td>2017/9/29</td><td>7</td></tr>\n",
              "</tbody>\n",
              "</table>\n"
            ]
          },
          "metadata": {
            "tags": []
          }
        }
      ]
    },
    {
      "cell_type": "code",
      "metadata": {
        "id": "-sTL_uvxhYjR",
        "outputId": "336df8c9-4c39-41d2-89ed-90d899f2995d",
        "colab": {
          "base_uri": "https://localhost:8080/",
          "height": 234
        }
      },
      "source": [
        "dataset[grepl(\"賴怡君\",dataset$A_Name_Ch),]"
      ],
      "execution_count": null,
      "outputs": [
        {
          "output_type": "stream",
          "text": [
            "Warning message in cbind(parts$left, ellip_h, parts$right, deparse.level = 0L):\n",
            "“number of rows of result is not a multiple of vector length (arg 2)”\n",
            "Warning message in cbind(parts$left, ellip_h, parts$right, deparse.level = 0L):\n",
            "“number of rows of result is not a multiple of vector length (arg 2)”\n",
            "Warning message in cbind(parts$left, ellip_h, parts$right, deparse.level = 0L):\n",
            "“number of rows of result is not a multiple of vector length (arg 2)”\n",
            "Warning message in cbind(parts$left, ellip_h, parts$right, deparse.level = 0L):\n",
            "“number of rows of result is not a multiple of vector length (arg 2)”\n"
          ],
          "name": "stderr"
        },
        {
          "output_type": "display_data",
          "data": {
            "text/plain": [
              "     A_Name_Ch A_Summary A_Keywords A_AlsoKnown A_Geo A_Location A_POIGroup\n",
              "     A_Name_En A_Name_Latin A_Phylum ⋯ A_pdf02_URL A_Voice01_ALT A_Voice01_URL\n",
              "     A_Voice02_ALT A_Voice02_URL A_Voice03_ALT A_Voice03_URL A_Vedio_URL\n",
              "     A_Update A_CID"
            ],
            "text/latex": "A data.frame: 0 × 46\n\\begin{tabular}{lllllllllllllllllllll}\n A\\_Name\\_Ch & A\\_Summary & A\\_Keywords & A\\_AlsoKnown & A\\_Geo & A\\_Location & A\\_POIGroup & A\\_Name\\_En & A\\_Name\\_Latin & A\\_Phylum & ⋯ & A\\_pdf02\\_URL & A\\_Voice01\\_ALT & A\\_Voice01\\_URL & A\\_Voice02\\_ALT & A\\_Voice02\\_URL & A\\_Voice03\\_ALT & A\\_Voice03\\_URL & A\\_Vedio\\_URL & A\\_Update & A\\_CID\\\\\n <chr> & <chr> & <chr> & <chr> & <chr> & <chr> & <chr> & <chr> & <chr> & <chr> & ⋯ & <chr> & <chr> & <chr> & <chr> & <chr> & <chr> & <chr> & <chr> & <chr> & <int>\\\\\n\\hline\n\\end{tabular}\n",
            "text/markdown": "\nA data.frame: 0 × 46\n\n| A_Name_Ch &lt;chr&gt; | A_Summary &lt;chr&gt; | A_Keywords &lt;chr&gt; | A_AlsoKnown &lt;chr&gt; | A_Geo &lt;chr&gt; | A_Location &lt;chr&gt; | A_POIGroup &lt;chr&gt; | A_Name_En &lt;chr&gt; | A_Name_Latin &lt;chr&gt; | A_Phylum &lt;chr&gt; | ⋯ ⋯ | A_pdf02_URL &lt;chr&gt; | A_Voice01_ALT &lt;chr&gt; | A_Voice01_URL &lt;chr&gt; | A_Voice02_ALT &lt;chr&gt; | A_Voice02_URL &lt;chr&gt; | A_Voice03_ALT &lt;chr&gt; | A_Voice03_URL &lt;chr&gt; | A_Vedio_URL &lt;chr&gt; | A_Update &lt;chr&gt; | A_CID &lt;int&gt; |\n|---|---|---|---|---|---|---|---|---|---|---|---|---|---|---|---|---|---|---|---|---|\n\n",
            "text/html": [
              "<table>\n",
              "<caption>A data.frame: 0 × 46</caption>\n",
              "<thead>\n",
              "\t<tr><th scope=col>A_Name_Ch</th><th scope=col>A_Summary</th><th scope=col>A_Keywords</th><th scope=col>A_AlsoKnown</th><th scope=col>A_Geo</th><th scope=col>A_Location</th><th scope=col>A_POIGroup</th><th scope=col>A_Name_En</th><th scope=col>A_Name_Latin</th><th scope=col>A_Phylum</th><th scope=col>⋯</th><th scope=col>A_pdf02_URL</th><th scope=col>A_Voice01_ALT</th><th scope=col>A_Voice01_URL</th><th scope=col>A_Voice02_ALT</th><th scope=col>A_Voice02_URL</th><th scope=col>A_Voice03_ALT</th><th scope=col>A_Voice03_URL</th><th scope=col>A_Vedio_URL</th><th scope=col>A_Update</th><th scope=col>A_CID</th></tr>\n",
              "\t<tr><th scope=col>&lt;chr&gt;</th><th scope=col>&lt;chr&gt;</th><th scope=col>&lt;chr&gt;</th><th scope=col>&lt;chr&gt;</th><th scope=col>&lt;chr&gt;</th><th scope=col>&lt;chr&gt;</th><th scope=col>&lt;chr&gt;</th><th scope=col>&lt;chr&gt;</th><th scope=col>&lt;chr&gt;</th><th scope=col>&lt;chr&gt;</th><th scope=col>⋯</th><th scope=col>&lt;chr&gt;</th><th scope=col>&lt;chr&gt;</th><th scope=col>&lt;chr&gt;</th><th scope=col>&lt;chr&gt;</th><th scope=col>&lt;chr&gt;</th><th scope=col>&lt;chr&gt;</th><th scope=col>&lt;chr&gt;</th><th scope=col>&lt;chr&gt;</th><th scope=col>&lt;chr&gt;</th><th scope=col>&lt;int&gt;</th></tr>\n",
              "</thead>\n",
              "<tbody>\n",
              "</tbody>\n",
              "</table>\n"
            ]
          },
          "metadata": {
            "tags": []
          }
        }
      ]
    }
  ]
}
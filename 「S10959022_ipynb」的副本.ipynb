{
  "nbformat": 4,
  "nbformat_minor": 0,
  "metadata": {
    "colab": {
      "name": "「S10959022.ipynb」的副本",
      "provenance": [],
      "collapsed_sections": [],
      "include_colab_link": true
    },
    "kernelspec": {
      "name": "ir",
      "display_name": "R"
    }
  },
  "cells": [
    {
      "cell_type": "markdown",
      "metadata": {
        "id": "view-in-github",
        "colab_type": "text"
      },
      "source": [
        "<a href=\"https://colab.research.google.com/github/seernono2001/s10959022/blob/master/%E3%80%8CS10959022_ipynb%E3%80%8D%E7%9A%84%E5%89%AF%E6%9C%AC.ipynb\" target=\"_parent\"><img src=\"https://colab.research.google.com/assets/colab-badge.svg\" alt=\"Open In Colab\"/></a>"
      ]
    },
    {
      "cell_type": "code",
      "metadata": {
        "id": "cguk2mK7Wuz-",
        "colab_type": "code",
        "colab": {
          "base_uri": "https://localhost:8080/",
          "height": 34
        },
        "outputId": "8319e8c4-9142-4747-c66b-08287d373f6a"
      },
      "source": [
        "class(3)"
      ],
      "execution_count": null,
      "outputs": [
        {
          "output_type": "display_data",
          "data": {
            "text/plain": [
              "[1] \"numeric\""
            ],
            "text/latex": "'numeric'",
            "text/markdown": "'numeric'",
            "text/html": [
              "'numeric'"
            ]
          },
          "metadata": {
            "tags": []
          }
        }
      ]
    },
    {
      "cell_type": "code",
      "metadata": {
        "id": "gyjvEty0XQxO",
        "colab_type": "code",
        "colab": {
          "base_uri": "https://localhost:8080/",
          "height": 34
        },
        "outputId": "85425508-904a-4485-92d0-169225ea48bc"
      },
      "source": [
        "class(\"UMU\")"
      ],
      "execution_count": null,
      "outputs": [
        {
          "output_type": "display_data",
          "data": {
            "text/plain": [
              "[1] \"character\""
            ],
            "text/latex": "'character'",
            "text/markdown": "'character'",
            "text/html": [
              "'character'"
            ]
          },
          "metadata": {
            "tags": []
          }
        }
      ]
    },
    {
      "cell_type": "code",
      "metadata": {
        "id": "pvO8faAnXiwG",
        "colab_type": "code",
        "colab": {
          "base_uri": "https://localhost:8080/",
          "height": 34
        },
        "outputId": "0e3f196f-0d5c-40ba-f536-a6ad0d1dfb2f"
      },
      "source": [
        "8+7"
      ],
      "execution_count": null,
      "outputs": [
        {
          "output_type": "display_data",
          "data": {
            "text/plain": [
              "[1] 15"
            ],
            "text/latex": "15",
            "text/markdown": "15",
            "text/html": [
              "15"
            ]
          },
          "metadata": {
            "tags": []
          }
        }
      ]
    },
    {
      "cell_type": "code",
      "metadata": {
        "id": "Hc00GIDLXrgH",
        "colab_type": "code",
        "colab": {}
      },
      "source": [
        "my_H<-163"
      ],
      "execution_count": null,
      "outputs": []
    },
    {
      "cell_type": "code",
      "metadata": {
        "id": "M5o-OxU5YwqX",
        "colab_type": "code",
        "colab": {}
      },
      "source": [
        "my_W <- 48"
      ],
      "execution_count": null,
      "outputs": []
    },
    {
      "cell_type": "code",
      "metadata": {
        "id": "_Zg22U-aY24v",
        "colab_type": "code",
        "colab": {
          "base_uri": "https://localhost:8080/",
          "height": 34
        },
        "outputId": "4b6ce92c-b9a7-43b4-e7eb-3af3e80851ef"
      },
      "source": [
        "my_H"
      ],
      "execution_count": null,
      "outputs": [
        {
          "output_type": "display_data",
          "data": {
            "text/plain": [
              "[1] 163"
            ],
            "text/latex": "163",
            "text/markdown": "163",
            "text/html": [
              "163"
            ]
          },
          "metadata": {
            "tags": []
          }
        }
      ]
    },
    {
      "cell_type": "code",
      "metadata": {
        "id": "iMUmvyi9ZTNO",
        "colab_type": "code",
        "colab": {}
      },
      "source": [
        "BMI<-my_W/my_H/my_H*10000"
      ],
      "execution_count": null,
      "outputs": []
    },
    {
      "cell_type": "code",
      "metadata": {
        "id": "HUtJWgPxZdmN",
        "colab_type": "code",
        "colab": {
          "base_uri": "https://localhost:8080/",
          "height": 34
        },
        "outputId": "4a68fd55-f135-4c55-8822-9d0bcdafad6c"
      },
      "source": [
        "BMI"
      ],
      "execution_count": null,
      "outputs": [
        {
          "output_type": "display_data",
          "data": {
            "text/plain": [
              "[1] 18.06617"
            ],
            "text/latex": "18.066167337875",
            "text/markdown": "18.066167337875",
            "text/html": [
              "18.066167337875"
            ]
          },
          "metadata": {
            "tags": []
          }
        }
      ]
    },
    {
      "cell_type": "code",
      "metadata": {
        "id": "APgkDMZdaO0F",
        "colab_type": "code",
        "colab": {}
      },
      "source": [
        "first_name<-\"Chen\""
      ],
      "execution_count": null,
      "outputs": []
    },
    {
      "cell_type": "code",
      "metadata": {
        "id": "auQ9PSTEa0sf",
        "colab_type": "code",
        "colab": {
          "base_uri": "https://localhost:8080/",
          "height": 34
        },
        "outputId": "6923e83d-179b-4b79-83a0-f090f39de0bb"
      },
      "source": [
        "first_name"
      ],
      "execution_count": null,
      "outputs": [
        {
          "output_type": "display_data",
          "data": {
            "text/plain": [
              "[1] \"Chen\""
            ],
            "text/latex": "'Chen'",
            "text/markdown": "'Chen'",
            "text/html": [
              "'Chen'"
            ]
          },
          "metadata": {
            "tags": []
          }
        }
      ]
    },
    {
      "cell_type": "code",
      "metadata": {
        "id": "YBuz53V6ch4Y",
        "colab_type": "code",
        "colab": {}
      },
      "source": [
        "my_name<-\"陳馨柔\""
      ],
      "execution_count": null,
      "outputs": []
    },
    {
      "cell_type": "code",
      "metadata": {
        "id": "iJNJ0Hw7bi5_",
        "colab_type": "code",
        "colab": {
          "base_uri": "https://localhost:8080/",
          "height": 34
        },
        "outputId": "ab2a9d83-7678-4baf-a6b3-eb7977a7fd52"
      },
      "source": [
        "paste0(\"我是\",my_name,\"我的身高\",my_H,\"我的體重\",my_W,\"我的BMI\",BMI)"
      ],
      "execution_count": null,
      "outputs": [
        {
          "output_type": "display_data",
          "data": {
            "text/plain": [
              "[1] \"我是陳馨柔我的身高163我的體重48我的BMI18.066167337875\""
            ],
            "text/latex": "'我是陳馨柔我的身高163我的體重48我的BMI18.066167337875'",
            "text/markdown": "'我是陳馨柔我的身高163我的體重48我的BMI18.066167337875'",
            "text/html": [
              "'我是陳馨柔我的身高163我的體重48我的BMI18.066167337875'"
            ]
          },
          "metadata": {
            "tags": []
          }
        }
      ]
    }
  ]
}